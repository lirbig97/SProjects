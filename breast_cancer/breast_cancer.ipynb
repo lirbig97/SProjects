{
 "cells": [
  {
   "cell_type": "markdown",
   "metadata": {},
   "source": [
    "# Recurrence of Breast Cancer\n",
    "\n",
    "## Data\n",
    "The dataset contains information about 286 women whose breast cancer has treated. It was obtained from the UCI Machine Learning Repository. It contains 10 attributes including the target attribute. \n",
    "\n",
    "### Variable information\n",
    "1. Class : Target variable. Values: no-recurrence event, recurrence event\n",
    "2. Age: Age (in years at last birthday) of the patientat the time of diagnosis (binned) 10-19, 20-29 etc\n",
    "3. Menopause: whether the patient is pre- or post-menopausal at time of diagnosis\n",
    "4.  Tumor size: the greatest diameter (in mm) of the excised tumor\n",
    "5.  Inv-nodes: the number (range 0 - 39) of axillarylymph nodes that contain metastatic breast can-cer visible on histological examination \n",
    "6.  Node caps:  if the cancer does metastasise to a lymph node, although outside the original site of the tumor it may remain “contained” by the cap-sule of the lymph node. However, over time, and with more aggressive disease, the tumor may re-place the lymph node and then penetrate the cap-sule,  allowing  it  to  invade  the  surrounding  tis-sues\n",
    "7.  Degree  of  malignancy:   the  histological  grade(range 1-3) of the tumor.  Tumors that are grade1 predominantly consist of cells that, while neo-plastic, retain many of their usual characteristics.Grade  3  tumors  predominately  consist  of  cellsthat are highly abnormal\n",
    "8.  Breast: breast cancer may obviously occur in ei-ther breast\n",
    "9.  Breast quadrant:  the breast may be divided intofour  quadrants,  using  the  nipple  as  a  centralpoint\n",
    "10.  Irradiation:  radiation therapy is a treatment that uses high-energy x-rays to destroy cancer cells.\n",
    "\n",
    "## Tasks\n",
    "1. Identify risk factors involved in recurrence events\n",
    "2. Build model to predict a recurrence event."
   ]
  },
  {
   "cell_type": "code",
   "execution_count": 41,
   "metadata": {},
   "outputs": [
    {
     "name": "stdout",
     "output_type": "stream",
     "text": [
      "R version 3.6.3 (2020-02-29)\n",
      "Platform: x86_64-pc-linux-gnu (64-bit)\n",
      "Running under: Ubuntu 20.04.1 LTS\n",
      "\n",
      "Matrix products: default\n",
      "BLAS:   /usr/lib/x86_64-linux-gnu/blas/libblas.so.3.9.0\n",
      "LAPACK: /usr/lib/x86_64-linux-gnu/lapack/liblapack.so.3.9.0\n",
      "\n",
      "locale:\n",
      " [1] LC_CTYPE=en_GB.UTF-8       LC_NUMERIC=C              \n",
      " [3] LC_TIME=en_GB.UTF-8        LC_COLLATE=en_GB.UTF-8    \n",
      " [5] LC_MONETARY=en_GB.UTF-8    LC_MESSAGES=en_GB.UTF-8   \n",
      " [7] LC_PAPER=en_GB.UTF-8       LC_NAME=C                 \n",
      " [9] LC_ADDRESS=C               LC_TELEPHONE=C            \n",
      "[11] LC_MEASUREMENT=en_GB.UTF-8 LC_IDENTIFICATION=C       \n",
      "\n",
      "attached base packages:\n",
      "[1] stats     graphics  grDevices utils     datasets  methods   base     \n",
      "\n",
      "other attached packages:\n",
      "[1] MLmetrics_1.1.1   caret_6.0-86      lattice_0.20-40   ggplot2_3.3.1    \n",
      "[5] data.table_1.13.0\n",
      "\n",
      "loaded via a namespace (and not attached):\n",
      " [1] pbdZMQ_0.3-3         tidyselect_1.1.0     repr_1.1.0          \n",
      " [4] purrr_0.3.4          reshape2_1.4.4       splines_3.6.3       \n",
      " [7] colorspace_1.4-1     vctrs_0.3.1          generics_0.0.2      \n",
      "[10] stats4_3.6.3         htmltools_0.4.0      base64enc_0.1-3     \n",
      "[13] survival_3.1-8       prodlim_2019.11.13   rlang_0.4.6         \n",
      "[16] e1071_1.7-3          ModelMetrics_1.2.2.2 pillar_1.4.4        \n",
      "[19] glue_1.4.1           withr_2.2.0          uuid_0.1-4          \n",
      "[22] foreach_1.5.0        lifecycle_0.2.0      plyr_1.8.6          \n",
      "[25] lava_1.6.7           stringr_1.4.0        timeDate_3043.102   \n",
      "[28] munsell_0.5.0        gtable_0.3.0         recipes_0.1.12      \n",
      "[31] codetools_0.2-16     evaluate_0.14        labeling_0.3        \n",
      "[34] class_7.3-15         IRdisplay_0.7.0      Rcpp_1.0.4.6        \n",
      "[37] scales_1.1.1         IRkernel_1.1         ipred_0.9-9         \n",
      "[40] jsonlite_1.6.1       farver_2.0.3         digest_0.6.25       \n",
      "[43] stringi_1.4.6        dplyr_1.0.0          grid_3.6.3          \n",
      "[46] tools_3.6.3          magrittr_1.5         tibble_3.0.1        \n",
      "[49] crayon_1.3.4         pkgconfig_2.0.3      ellipsis_0.3.1      \n",
      "[52] MASS_7.3-51.5        Matrix_1.2-18        pROC_1.16.2         \n",
      "[55] lubridate_1.7.9      gower_0.2.1          iterators_1.0.12    \n",
      "[58] R6_2.4.1             rpart_4.1-15         nnet_7.3-13         \n",
      "[61] nlme_3.1-144         compiler_3.6.3      \n"
     ]
    }
   ],
   "source": [
    "library(caret)\n",
    "library(ggplot2)\n",
    "library(MLmetrics)\n",
    "\n",
    "print(sessionInfo())\n",
    "\n",
    "set.seed(2020)"
   ]
  },
  {
   "cell_type": "code",
   "execution_count": 2,
   "metadata": {},
   "outputs": [
    {
     "data": {
      "text/html": [
       "<table>\n",
       "<caption>A data.frame: 6 × 10</caption>\n",
       "<thead>\n",
       "\t<tr><th></th><th scope=col>class</th><th scope=col>age</th><th scope=col>menopause</th><th scope=col>tum_size</th><th scope=col>inv_node</th><th scope=col>node_cap</th><th scope=col>deg_malig</th><th scope=col>breast</th><th scope=col>breast_quad</th><th scope=col>irrad</th></tr>\n",
       "\t<tr><th></th><th scope=col>&lt;fct&gt;</th><th scope=col>&lt;fct&gt;</th><th scope=col>&lt;fct&gt;</th><th scope=col>&lt;fct&gt;</th><th scope=col>&lt;fct&gt;</th><th scope=col>&lt;fct&gt;</th><th scope=col>&lt;int&gt;</th><th scope=col>&lt;fct&gt;</th><th scope=col>&lt;fct&gt;</th><th scope=col>&lt;fct&gt;</th></tr>\n",
       "</thead>\n",
       "<tbody>\n",
       "\t<tr><th scope=row>1</th><td>no-recurrence-events</td><td>30-39</td><td>premeno</td><td>30-34</td><td>0-2</td><td>no</td><td>3</td><td>left </td><td>left_low </td><td>no</td></tr>\n",
       "\t<tr><th scope=row>2</th><td>no-recurrence-events</td><td>40-49</td><td>premeno</td><td>20-24</td><td>0-2</td><td>no</td><td>2</td><td>right</td><td>right_up </td><td>no</td></tr>\n",
       "\t<tr><th scope=row>3</th><td>no-recurrence-events</td><td>40-49</td><td>premeno</td><td>20-24</td><td>0-2</td><td>no</td><td>2</td><td>left </td><td>left_low </td><td>no</td></tr>\n",
       "\t<tr><th scope=row>4</th><td>no-recurrence-events</td><td>60-69</td><td>ge40   </td><td>15-19</td><td>0-2</td><td>no</td><td>2</td><td>right</td><td>left_up  </td><td>no</td></tr>\n",
       "\t<tr><th scope=row>5</th><td>no-recurrence-events</td><td>40-49</td><td>premeno</td><td>0-4  </td><td>0-2</td><td>no</td><td>2</td><td>right</td><td>right_low</td><td>no</td></tr>\n",
       "\t<tr><th scope=row>6</th><td>no-recurrence-events</td><td>60-69</td><td>ge40   </td><td>15-19</td><td>0-2</td><td>no</td><td>2</td><td>left </td><td>left_low </td><td>no</td></tr>\n",
       "</tbody>\n",
       "</table>\n"
      ],
      "text/latex": [
       "A data.frame: 6 × 10\n",
       "\\begin{tabular}{r|llllllllll}\n",
       "  & class & age & menopause & tum\\_size & inv\\_node & node\\_cap & deg\\_malig & breast & breast\\_quad & irrad\\\\\n",
       "  & <fct> & <fct> & <fct> & <fct> & <fct> & <fct> & <int> & <fct> & <fct> & <fct>\\\\\n",
       "\\hline\n",
       "\t1 & no-recurrence-events & 30-39 & premeno & 30-34 & 0-2 & no & 3 & left  & left\\_low  & no\\\\\n",
       "\t2 & no-recurrence-events & 40-49 & premeno & 20-24 & 0-2 & no & 2 & right & right\\_up  & no\\\\\n",
       "\t3 & no-recurrence-events & 40-49 & premeno & 20-24 & 0-2 & no & 2 & left  & left\\_low  & no\\\\\n",
       "\t4 & no-recurrence-events & 60-69 & ge40    & 15-19 & 0-2 & no & 2 & right & left\\_up   & no\\\\\n",
       "\t5 & no-recurrence-events & 40-49 & premeno & 0-4   & 0-2 & no & 2 & right & right\\_low & no\\\\\n",
       "\t6 & no-recurrence-events & 60-69 & ge40    & 15-19 & 0-2 & no & 2 & left  & left\\_low  & no\\\\\n",
       "\\end{tabular}\n"
      ],
      "text/markdown": [
       "\n",
       "A data.frame: 6 × 10\n",
       "\n",
       "| <!--/--> | class &lt;fct&gt; | age &lt;fct&gt; | menopause &lt;fct&gt; | tum_size &lt;fct&gt; | inv_node &lt;fct&gt; | node_cap &lt;fct&gt; | deg_malig &lt;int&gt; | breast &lt;fct&gt; | breast_quad &lt;fct&gt; | irrad &lt;fct&gt; |\n",
       "|---|---|---|---|---|---|---|---|---|---|---|\n",
       "| 1 | no-recurrence-events | 30-39 | premeno | 30-34 | 0-2 | no | 3 | left  | left_low  | no |\n",
       "| 2 | no-recurrence-events | 40-49 | premeno | 20-24 | 0-2 | no | 2 | right | right_up  | no |\n",
       "| 3 | no-recurrence-events | 40-49 | premeno | 20-24 | 0-2 | no | 2 | left  | left_low  | no |\n",
       "| 4 | no-recurrence-events | 60-69 | ge40    | 15-19 | 0-2 | no | 2 | right | left_up   | no |\n",
       "| 5 | no-recurrence-events | 40-49 | premeno | 0-4   | 0-2 | no | 2 | right | right_low | no |\n",
       "| 6 | no-recurrence-events | 60-69 | ge40    | 15-19 | 0-2 | no | 2 | left  | left_low  | no |\n",
       "\n"
      ],
      "text/plain": [
       "  class                age   menopause tum_size inv_node node_cap deg_malig\n",
       "1 no-recurrence-events 30-39 premeno   30-34    0-2      no       3        \n",
       "2 no-recurrence-events 40-49 premeno   20-24    0-2      no       2        \n",
       "3 no-recurrence-events 40-49 premeno   20-24    0-2      no       2        \n",
       "4 no-recurrence-events 60-69 ge40      15-19    0-2      no       2        \n",
       "5 no-recurrence-events 40-49 premeno   0-4      0-2      no       2        \n",
       "6 no-recurrence-events 60-69 ge40      15-19    0-2      no       2        \n",
       "  breast breast_quad irrad\n",
       "1 left   left_low    no   \n",
       "2 right  right_up    no   \n",
       "3 left   left_low    no   \n",
       "4 right  left_up     no   \n",
       "5 right  right_low   no   \n",
       "6 left   left_low    no   "
      ]
     },
     "metadata": {},
     "output_type": "display_data"
    },
    {
     "name": "stdout",
     "output_type": "stream",
     "text": [
      "'data.frame':\t286 obs. of  10 variables:\n",
      " $ class      : Factor w/ 2 levels \"no-recurrence-events\",..: 1 1 1 1 1 1 1 1 1 1 ...\n",
      " $ age        : Factor w/ 6 levels \"20-29\",\"30-39\",..: 2 3 3 5 3 5 4 5 3 3 ...\n",
      " $ menopause  : Factor w/ 3 levels \"ge40\",\"lt40\",..: 3 3 3 1 3 1 3 1 3 3 ...\n",
      " $ tum_size   : Factor w/ 11 levels \"0-4\",\"10-14\",..: 6 4 4 3 1 3 5 4 11 4 ...\n",
      " $ inv_node   : Factor w/ 7 levels \"0-2\",\"12-14\",..: 1 1 1 1 1 1 1 1 1 1 ...\n",
      " $ node_cap   : Factor w/ 2 levels \"no\",\"yes\": 1 1 1 1 1 1 1 1 1 1 ...\n",
      " $ deg_malig  : int  3 2 2 2 2 2 2 1 2 2 ...\n",
      " $ breast     : Factor w/ 2 levels \"left\",\"right\": 1 2 1 2 2 1 1 1 1 2 ...\n",
      " $ breast_quad: Factor w/ 5 levels \"central\",\"left_low\",..: 2 5 2 3 4 2 2 2 2 3 ...\n",
      " $ irrad      : Factor w/ 2 levels \"no\",\"yes\": 1 1 1 1 1 1 1 1 1 1 ...\n"
     ]
    },
    {
     "data": {
      "text/plain": [
       "                  class        age       menopause      tum_size   inv_node  \n",
       " no-recurrence-events:201   20-29: 1   ge40   :129   30-34  :60   0-2  :213  \n",
       " recurrence-events   : 85   30-39:36   lt40   :  7   25-29  :54   12-14:  3  \n",
       "                            40-49:90   premeno:150   20-24  :50   15-17:  6  \n",
       "                            50-59:96                 15-19  :30   24-26:  1  \n",
       "                            60-69:57                 10-14  :28   3-5  : 36  \n",
       "                            70-79: 6                 40-44  :22   6-8  : 17  \n",
       "                                                     (Other):42   9-11 : 10  \n",
       " node_cap   deg_malig   breast       breast_quad  irrad    \n",
       " no  :222   1: 71     left :152   central  : 21   no :218  \n",
       " yes : 56   2:130     right:134   left_low :110   yes: 68  \n",
       " NA's:  8   3: 85                 left_up  : 97            \n",
       "                                  right_low: 24            \n",
       "                                  right_up : 33            \n",
       "                                  NA's     :  1            \n",
       "                                                           "
      ]
     },
     "metadata": {},
     "output_type": "display_data"
    }
   ],
   "source": [
    "# read in and check data\n",
    "\n",
    "breast_dta <- read.csv('breast_cancer.csv', header = FALSE, na.strings = '?')\n",
    "\n",
    "colnames(breast_dta) <- c('class', 'age', 'menopause', 'tum_size', \n",
    "                          'inv_node', 'node_cap', 'deg_malig', 'breast',\n",
    "                          'breast_quad', 'irrad')\n",
    "\n",
    "head(breast_dta)\n",
    "str(breast_dta)\n",
    "\n",
    "# convert deg_malig to ordered\n",
    "breast_dta <- within(breast_dta, {\n",
    "    deg_malig <- ordered(deg_malig)\n",
    "})\n",
    "\n",
    "summary(breast_dta)"
   ]
  },
  {
   "cell_type": "code",
   "execution_count": 3,
   "metadata": {},
   "outputs": [
    {
     "data": {
      "text/plain": [
       "\n",
       "\tPearson's Chi-squared test\n",
       "\n",
       "data:  node_cap and deg_malig\n",
       "X-squared = 29.859, df = 2, p-value = 3.283e-07\n"
      ]
     },
     "metadata": {},
     "output_type": "display_data"
    },
    {
     "data": {
      "text/plain": [
       "        deg_malig\n",
       "node_cap   1   2   3\n",
       "     no   66 103  53\n",
       "     yes   0  26  30"
      ]
     },
     "metadata": {},
     "output_type": "display_data"
    },
    {
     "data": {
      "text/plain": [
       "\n",
       "\tPearson's Chi-squared test with Yates' continuity correction\n",
       "\n",
       "data:  node_cap and breast\n",
       "X-squared = 0.0007252, df = 1, p-value = 0.9785\n"
      ]
     },
     "metadata": {},
     "output_type": "display_data"
    },
    {
     "data": {
      "text/plain": [
       "\n",
       "\tPearson's Chi-squared test with Yates' continuity correction\n",
       "\n",
       "data:  node_cap and irrad\n",
       "X-squared = 29.077, df = 1, p-value = 6.954e-08\n"
      ]
     },
     "metadata": {},
     "output_type": "display_data"
    },
    {
     "data": {
      "text/plain": [
       "        irrad\n",
       "node_cap  no yes\n",
       "     no  188  34\n",
       "     yes  28  28"
      ]
     },
     "metadata": {},
     "output_type": "display_data"
    },
    {
     "data": {
      "text/plain": [
       "        inv_node\n",
       "node_cap 0-2 12-14 15-17 24-26 3-5 6-8 9-11\n",
       "     no  201     1     1     0  15   3    1\n",
       "     yes   9     2     5     1  19  14    6"
      ]
     },
     "metadata": {},
     "output_type": "display_data"
    },
    {
     "name": "stderr",
     "output_type": "stream",
     "text": [
      "Warning message in chisq.test(node_cap, inv_node):\n",
      "“Chi-squared approximation may be incorrect”\n"
     ]
    },
    {
     "data": {
      "text/plain": [
       "\n",
       "\tPearson's Chi-squared test\n",
       "\n",
       "data:  node_cap and inv_node\n",
       "X-squared = 142.33, df = 6, p-value < 2.2e-16\n"
      ]
     },
     "metadata": {},
     "output_type": "display_data"
    }
   ],
   "source": [
    "# chi-squared test for independence node_cap v deg_malig\n",
    "with(breast_dta, chisq.test(node_cap, deg_malig)) # --> reject null hyp\n",
    "\n",
    "with(breast_dta, table(node_cap, deg_malig))\n",
    "\n",
    "# node_cap v breast\n",
    "with(breast_dta, chisq.test(node_cap, breast)) # --> fail to reject null hyp\n",
    "\n",
    "# node_cap v irrad\n",
    "with(breast_dta, chisq.test(node_cap, irrad)) # --> reject null hyp\n",
    "with(breast_dta, table(node_cap, irrad))\n",
    "\n",
    "# node_cap v breast_quad\n",
    "with(breast_dta, table(node_cap, inv_node))\n",
    "with(breast_dta, chisq.test(node_cap, inv_node))\n",
    "\n",
    "\n",
    "# impute missing values in node_cap using the following rules:\n",
    "# if deg_malig <= 2: node_cap = 'no' \n",
    "# else if inv_node == 0-2: node_cap = 'no'\n",
    "# else if irrad == no: node_cap = 'no' otherwise node_cap = 'yes'\n",
    "breast_dta$node_cap[is.na(breast_dta$node_cap)] <- factor(with(breast_dta[is.na(breast_dta$node_cap),], ifelse(deg_malig == 1 | deg_malig == 2, 'no',\n",
    "                                                                      ifelse(inv_node == '0-2', 'no',\n",
    "                                                                        ifelse(irrad == 'no', 'no', 'yes')))))\n",
    "#breast_dta$node_cap <- as.factor(breast_dta$node_cap)\n",
    "\n",
    "# impute missing values in breast_quad using mode \n",
    "breast_dta$breast_quad[is.na(breast_dta$breast_quad)] <- factor('left_low')\n"
   ]
  },
  {
   "cell_type": "code",
   "execution_count": 17,
   "metadata": {},
   "outputs": [
    {
     "data": {
      "image/png": "[encoded data removed]",
      "text/plain": [
       "plot without title"
      ]
     },
     "metadata": {
      "image/png": {
       "height": 420,
       "width": 420
      },
      "text/plain": {
       "height": 420,
       "width": 420
      }
     },
     "output_type": "display_data"
    }
   ],
   "source": [
    "# graphical summaries \n",
    "\n",
    "# class distribution\n",
    "ggplot(breast_dta, aes(x = class)) + \n",
    "    geom_bar(fill = 'red3') + \n",
    "      labs(title = 'Class Distribution')\n",
    "\n",
    "# the class is imbalanced, most of the patients didn't have a recurrence event\n"
   ]
  },
  {
   "cell_type": "code",
   "execution_count": 18,
   "metadata": {},
   "outputs": [
    {
     "data": {
      "image/png": "[encoded data removed]",
      "text/plain": [
       "plot without title"
      ]
     },
     "metadata": {
      "image/png": {
       "height": 420,
       "width": 420
      },
      "text/plain": {
       "height": 420,
       "width": 420
      }
     },
     "output_type": "display_data"
    }
   ],
   "source": [
    "# age v class\n",
    "\n",
    "ggplot(breast_dta, aes(x = age, fill = class)) + \n",
    "       geom_bar() + labs(title = 'Age')\n",
    "# patients in the 40-59 age group are more likely to \n",
    "# to have a recurrence event whereas patients in the 20-29 and 70-79 are less likely\n",
    "# to have a recurrence event. However this could be due to the small number of patients\n",
    "# in those age groups."
   ]
  },
  {
   "cell_type": "code",
   "execution_count": 19,
   "metadata": {},
   "outputs": [
    {
     "data": {
      "image/png": "[encoded data removed]",
      "text/plain": [
       "plot without title"
      ]
     },
     "metadata": {
      "image/png": {
       "height": 420,
       "width": 420
      },
      "text/plain": {
       "height": 420,
       "width": 420
      }
     },
     "output_type": "display_data"
    }
   ],
   "source": [
    "# menopause v class\n",
    "\n",
    "ggplot(breast_dta, aes(x = menopause, fill = class)) + geom_bar() + labs(title = 'Menopause')\n",
    "# there is no apparent relationship between menopause age and \n",
    "# a recurrence event"
   ]
  },
  {
   "cell_type": "code",
   "execution_count": 20,
   "metadata": {},
   "outputs": [
    {
     "data": {
      "image/png": "[encoded data removed]",
      "text/plain": [
       "plot without title"
      ]
     },
     "metadata": {
      "image/png": {
       "height": 420,
       "width": 420
      },
      "text/plain": {
       "height": 420,
       "width": 420
      }
     },
     "output_type": "display_data"
    }
   ],
   "source": [
    "# tumor_size v class\n",
    "ggplot(breast_dta, aes(x = tum_size, fill = class)) + geom_bar() + labs(title = 'Tumor size')\n",
    "\n",
    "# tumor sizes in the range 25-34 mm had the highest rates of recurrence events\n",
    "# steady increases in likelihood of recurrence event happening as tumor size \n",
    "# increases from 0-34 mm, then a decrease from 35-54 mm.\n",
    "#\n",
    "# this suggests that if the tumor size is very small, it can easily be destroyed\n",
    "# thus reducing the chances of a recurrence event. Similarly, if the tumor sizes are very large,\n",
    "# and removed by surgical approaches for example, the likelihood of a recurrence event decreases.bb"
   ]
  },
  {
   "cell_type": "code",
   "execution_count": 21,
   "metadata": {},
   "outputs": [
    {
     "data": {
      "image/png": "[encoded data removed]",
      "text/plain": [
       "plot without title"
      ]
     },
     "metadata": {
      "image/png": {
       "height": 420,
       "width": 420
      },
      "text/plain": {
       "height": 420,
       "width": 420
      }
     },
     "output_type": "display_data"
    }
   ],
   "source": [
    "# inv_node v class\n",
    "ggplot(breast_dta, aes(x = inv_node, fill = class)) + geom_bar() + \n",
    "   labs(title = 'No. of axillary lymph nodes')\n",
    "\n",
    "# no immediate relationship can be deduced from the chart"
   ]
  },
  {
   "cell_type": "code",
   "execution_count": 22,
   "metadata": {},
   "outputs": [
    {
     "data": {
      "image/png": "[encoded data removed]",
      "text/plain": [
       "plot without title"
      ]
     },
     "metadata": {
      "image/png": {
       "height": 420,
       "width": 420
      },
      "text/plain": {
       "height": 420,
       "width": 420
      }
     },
     "output_type": "display_data"
    }
   ],
   "source": [
    "# node_cap v class\n",
    "\n",
    "ggplot(breast_dta, aes(x = node_cap, fill = class)) + geom_bar() + labs(title = 'Node capsule')\n",
    "\n",
    "# recurrence event more likley if the cancer metastasises to a lymph node"
   ]
  },
  {
   "cell_type": "code",
   "execution_count": 23,
   "metadata": {},
   "outputs": [
    {
     "data": {
      "image/png": "[encoded data removed]",
      "text/plain": [
       "plot without title"
      ]
     },
     "metadata": {
      "image/png": {
       "height": 420,
       "width": 420
      },
      "text/plain": {
       "height": 420,
       "width": 420
      }
     },
     "output_type": "display_data"
    }
   ],
   "source": [
    "# irrad v class\n",
    "ggplot(breast_dta, aes(x = irrad, fill = class)) + geom_bar() + labs(title = 'Radiation therapy')\n",
    "\n",
    "# recurrence event more likely if radiation therapy was used."
   ]
  },
  {
   "cell_type": "code",
   "execution_count": 55,
   "metadata": {},
   "outputs": [
    {
     "data": {
      "text/html": [
       "<style>\n",
       ".list-inline {list-style: none; margin:0; padding: 0}\n",
       ".list-inline>li {display: inline-block}\n",
       ".list-inline>li:not(:last-child)::after {content: \"\\00b7\"; padding: 0 .5ex}\n",
       "</style>\n",
       "<ol class=list-inline><li>229</li><li>10</li></ol>\n"
      ],
      "text/latex": [
       "\\begin{enumerate*}\n",
       "\\item 229\n",
       "\\item 10\n",
       "\\end{enumerate*}\n"
      ],
      "text/markdown": [
       "1. 229\n",
       "2. 10\n",
       "\n",
       "\n"
      ],
      "text/plain": [
       "[1] 229  10"
      ]
     },
     "metadata": {},
     "output_type": "display_data"
    },
    {
     "data": {
      "text/html": [
       "<style>\n",
       ".list-inline {list-style: none; margin:0; padding: 0}\n",
       ".list-inline>li {display: inline-block}\n",
       ".list-inline>li:not(:last-child)::after {content: \"\\00b7\"; padding: 0 .5ex}\n",
       "</style>\n",
       "<ol class=list-inline><li>57</li><li>10</li></ol>\n"
      ],
      "text/latex": [
       "\\begin{enumerate*}\n",
       "\\item 57\n",
       "\\item 10\n",
       "\\end{enumerate*}\n"
      ],
      "text/markdown": [
       "1. 57\n",
       "2. 10\n",
       "\n",
       "\n"
      ],
      "text/plain": [
       "[1] 57 10"
      ]
     },
     "metadata": {},
     "output_type": "display_data"
    },
    {
     "name": "stderr",
     "output_type": "stream",
     "text": [
      "Warning message in nominalTrainWorkflow(x = x, y = y, wts = weights, info = trainInfo, :\n",
      "“There were missing values in resampled performance measures.”\n"
     ]
    },
    {
     "data": {
      "text/plain": [
       "CART \n",
       "\n",
       "286 samples\n",
       "  9 predictor\n",
       "  2 classes: 'no-recurrence-events', 'recurrence-events' \n",
       "\n",
       "No pre-processing\n",
       "Resampling: Cross-Validated (5 fold) \n",
       "Summary of sample sizes: 229, 229, 229, 228, 229 \n",
       "Resampling results across tuning parameters:\n",
       "\n",
       "  cp           AUC  Precision  Recall     F        \n",
       "  0.000000000  NaN  0.7410687  0.8704878  0.8004449\n",
       "  0.009150327  NaN  0.7410687  0.8704878  0.8004449\n",
       "  0.018300654  NaN  0.7476889  0.8804878  0.8076727\n",
       "  0.027450980  NaN  0.7476889  0.8804878  0.8076727\n",
       "  0.036601307  NaN  0.7360648  0.8804878  0.8004175\n",
       "  0.045751634  NaN  0.7349536  0.9054878  0.8099828\n",
       "  0.054901961  NaN  0.7439384  0.8754878  0.8026395\n",
       "  0.064052288  NaN  0.7494522  0.8654878  0.8003881\n",
       "  0.073202614  NaN  0.7428315  0.8850000  0.8034073\n",
       "  0.082352941  NaN  0.7430186  0.8150000  0.7734574\n",
       "\n",
       "Precision was used to select the optimal model using the largest value.\n",
       "The final value used for the model was cp = 0.06405229."
      ]
     },
     "metadata": {},
     "output_type": "display_data"
    }
   ],
   "source": [
    "# model building\n",
    "#\n",
    "# in our models, we'll put a preference on reducing the false-negative rate\n",
    "# given the context of the problem. that is, while we want a fairly accurate model,\n",
    "# a more suitable model will be one that doesn't predict no recurrence for a patient \n",
    "# that will have a recurrence. Hence, we use the Precision metric in training our models.\n",
    "\n",
    "# split data into 80-20 split\n",
    "train_inds <- with(breast_dta, createDataPartition(class, p = 0.8, list = TRUE)[[1]])\n",
    "\n",
    "train_data <- breast_dta[train_inds, ]\n",
    "test <- breast_dta[-train_inds, ]\n",
    "\n",
    "dim(train_data)\n",
    "dim(test)\n",
    "\n",
    "train_ctrl <- trainControl(method = 'cv', number = 5, summaryFunction = prSummary)\n",
    "\n",
    "\n",
    "# decision tree\n",
    "\n",
    "decision_tree <- train(class ~.,\n",
    "                      data = breast_dta,\n",
    "                      method = 'rpart',\n",
    "                      trControl = train_ctrl,\n",
    "                      metric = 'Precision',\n",
    "                      parms = list(split = c('gini', 'information')),\n",
    "                      tuneLength = 10)\n",
    "\n",
    "decision_tree"
   ]
  },
  {
   "cell_type": "code",
   "execution_count": 56,
   "metadata": {},
   "outputs": [
    {
     "data": {
      "text/plain": [
       "Confusion Matrix and Statistics\n",
       "\n",
       "                      Reference\n",
       "Prediction             no-recurrence-events recurrence-events\n",
       "  no-recurrence-events                   39                 9\n",
       "  recurrence-events                       1                 8\n",
       "                                              \n",
       "               Accuracy : 0.8246              \n",
       "                 95% CI : (0.7009, 0.9125)    \n",
       "    No Information Rate : 0.7018              \n",
       "    P-Value [Acc > NIR] : 0.02576             \n",
       "                                              \n",
       "                  Kappa : 0.5153              \n",
       "                                              \n",
       " Mcnemar's Test P-Value : 0.02686             \n",
       "                                              \n",
       "              Precision : 0.8125              \n",
       "                 Recall : 0.9750              \n",
       "                     F1 : 0.8864              \n",
       "             Prevalence : 0.7018              \n",
       "         Detection Rate : 0.6842              \n",
       "   Detection Prevalence : 0.8421              \n",
       "      Balanced Accuracy : 0.7228              \n",
       "                                              \n",
       "       'Positive' Class : no-recurrence-events\n",
       "                                              "
      ]
     },
     "metadata": {},
     "output_type": "display_data"
    }
   ],
   "source": [
    "# test model on validaiton set\n",
    "\n",
    "preds <- predict(decision_tree, test)\n",
    "\n",
    "confusionMatrix(data = preds, reference = test$class, mode = 'prec_recall')"
   ]
  },
  {
   "cell_type": "code",
   "execution_count": 58,
   "metadata": {},
   "outputs": [
    {
     "name": "stderr",
     "output_type": "stream",
     "text": [
      "Warning message in nominalTrainWorkflow(x = x, y = y, wts = weights, info = trainInfo, :\n",
      "“There were missing values in resampled performance measures.”\n"
     ]
    },
    {
     "data": {
      "text/plain": [
       "Random Forest \n",
       "\n",
       "286 samples\n",
       "  9 predictor\n",
       "  2 classes: 'no-recurrence-events', 'recurrence-events' \n",
       "\n",
       "No pre-processing\n",
       "Resampling: Cross-Validated (5 fold) \n",
       "Summary of sample sizes: 229, 229, 229, 228, 229 \n",
       "Resampling results across tuning parameters:\n",
       "\n",
       "  mtry  AUC  Precision  Recall     F        \n",
       "   2    NaN  0.7049248  0.9750000  0.8180858\n",
       "   5    NaN  0.7474390  0.9151220  0.8225640\n",
       "   8    NaN  0.7666502  0.8852439  0.8215308\n",
       "  12    NaN  0.7715774  0.8754878  0.8200025\n",
       "  15    NaN  0.7693394  0.8654878  0.8142013\n",
       "  18    NaN  0.7668845  0.8506098  0.8061573\n",
       "  22    NaN  0.7687349  0.8606098  0.8118675\n",
       "  25    NaN  0.7633754  0.8354878  0.7975372\n",
       "  28    NaN  0.7645173  0.8406098  0.8005510\n",
       "  32    NaN  0.7621633  0.8304878  0.7946241\n",
       "\n",
       "Precision was used to select the optimal model using the largest value.\n",
       "The final value used for the model was mtry = 12."
      ]
     },
     "metadata": {},
     "output_type": "display_data"
    }
   ],
   "source": [
    "random_forest <- train(class ~.,\n",
    "                       data = breast_dta,\n",
    "                       method = 'rf',\n",
    "                       trControl = train_ctrl,\n",
    "                       metric = 'Precision',\n",
    "                       tuneLength = 10)\n",
    "\n",
    "random_forest"
   ]
  },
  {
   "cell_type": "code",
   "execution_count": 59,
   "metadata": {},
   "outputs": [
    {
     "data": {
      "text/plain": [
       "Confusion Matrix and Statistics\n",
       "\n",
       "                      Reference\n",
       "Prediction             no-recurrence-events recurrence-events\n",
       "  no-recurrence-events                   40                 1\n",
       "  recurrence-events                       0                16\n",
       "                                              \n",
       "               Accuracy : 0.9825              \n",
       "                 95% CI : (0.9061, 0.9996)    \n",
       "    No Information Rate : 0.7018              \n",
       "    P-Value [Acc > NIR] : 4.309e-08           \n",
       "                                              \n",
       "                  Kappa : 0.9574              \n",
       "                                              \n",
       " Mcnemar's Test P-Value : 1                   \n",
       "                                              \n",
       "              Precision : 0.9756              \n",
       "                 Recall : 1.0000              \n",
       "                     F1 : 0.9877              \n",
       "             Prevalence : 0.7018              \n",
       "         Detection Rate : 0.7018              \n",
       "   Detection Prevalence : 0.7193              \n",
       "      Balanced Accuracy : 0.9706              \n",
       "                                              \n",
       "       'Positive' Class : no-recurrence-events\n",
       "                                              "
      ]
     },
     "metadata": {},
     "output_type": "display_data"
    }
   ],
   "source": [
    "# performance on test set\n",
    "\n",
    "rf_preds <- predict(random_forest, test)\n",
    "\n",
    "confusionMatrix(data = rf_preds, reference = test$class, mode = 'prec_recall')"
   ]
  }
 ],
 "metadata": {
  "kernelspec": {
   "display_name": "R",
   "language": "R",
   "name": "ir"
  },
  "language_info": {
   "codemirror_mode": "r",
   "file_extension": ".r",
   "mimetype": "text/x-r-source",
   "name": "R",
   "pygments_lexer": "r",
   "version": "3.6.3"
  }
 },
 "nbformat": 4,
 "nbformat_minor": 4
}
